{
 "cells": [
  {
   "cell_type": "markdown",
   "metadata": {},
   "source": [
    "# Data Selection & Overview"
   ]
  },
  {
   "cell_type": "markdown",
   "metadata": {},
   "source": [
    "I am useing data from freeCodeCamp's 2017 New Coder Survey. Because they run a popular Medium publication (over 400,000 followers), their survey attracted new coders with varying interests (not only web development), which is ideal for the purpose of our analysis. I am using an existing survey rather than conducting our own in order to save money on the initial analysis.\n",
    "\n",
    "Survey data is taken from this GitHub repository: https://github.com/freeCodeCamp/2017-new-coder-survey"
   ]
  },
  {
   "cell_type": "code",
   "execution_count": 3,
   "metadata": {
    "collapsed": false
   },
   "outputs": [],
   "source": [
    "import pandas as pd\n",
    "import matplotlib.pyplot as plt\n",
    "import seaborn as sns\n",
    "%matplotlib inline\n",
    "\n",
    "data = pd.read_csv('2017-fCC-New-Coders-Survey-Data.csv', low_memory=0)"
   ]
  },
  {
   "cell_type": "code",
   "execution_count": 4,
   "metadata": {
    "collapsed": false
   },
   "outputs": [
    {
     "name": "stdout",
     "output_type": "stream",
     "text": [
      "<class 'pandas.core.frame.DataFrame'>\n",
      "RangeIndex: 18175 entries, 0 to 18174\n",
      "Columns: 136 entries, Age to YouTubeTheNewBoston\n",
      "dtypes: float64(105), object(31)\n",
      "memory usage: 18.9+ MB\n"
     ]
    },
    {
     "data": {
      "text/html": [
       "<div>\n",
       "<style scoped>\n",
       "    .dataframe tbody tr th:only-of-type {\n",
       "        vertical-align: middle;\n",
       "    }\n",
       "\n",
       "    .dataframe tbody tr th {\n",
       "        vertical-align: top;\n",
       "    }\n",
       "\n",
       "    .dataframe thead th {\n",
       "        text-align: right;\n",
       "    }\n",
       "</style>\n",
       "<table border=\"1\" class=\"dataframe\">\n",
       "  <thead>\n",
       "    <tr style=\"text-align: right;\">\n",
       "      <th></th>\n",
       "      <th>Age</th>\n",
       "      <th>AttendedBootcamp</th>\n",
       "      <th>BootcampFinish</th>\n",
       "      <th>BootcampLoanYesNo</th>\n",
       "      <th>BootcampName</th>\n",
       "      <th>BootcampRecommend</th>\n",
       "      <th>ChildrenNumber</th>\n",
       "      <th>CityPopulation</th>\n",
       "      <th>CodeEventConferences</th>\n",
       "      <th>CodeEventDjangoGirls</th>\n",
       "      <th>...</th>\n",
       "      <th>YouTubeFCC</th>\n",
       "      <th>YouTubeFunFunFunction</th>\n",
       "      <th>YouTubeGoogleDev</th>\n",
       "      <th>YouTubeLearnCode</th>\n",
       "      <th>YouTubeLevelUpTuts</th>\n",
       "      <th>YouTubeMIT</th>\n",
       "      <th>YouTubeMozillaHacks</th>\n",
       "      <th>YouTubeOther</th>\n",
       "      <th>YouTubeSimplilearn</th>\n",
       "      <th>YouTubeTheNewBoston</th>\n",
       "    </tr>\n",
       "  </thead>\n",
       "  <tbody>\n",
       "    <tr>\n",
       "      <th>0</th>\n",
       "      <td>27.0</td>\n",
       "      <td>0.0</td>\n",
       "      <td>NaN</td>\n",
       "      <td>NaN</td>\n",
       "      <td>NaN</td>\n",
       "      <td>NaN</td>\n",
       "      <td>NaN</td>\n",
       "      <td>more than 1 million</td>\n",
       "      <td>NaN</td>\n",
       "      <td>NaN</td>\n",
       "      <td>...</td>\n",
       "      <td>NaN</td>\n",
       "      <td>NaN</td>\n",
       "      <td>NaN</td>\n",
       "      <td>NaN</td>\n",
       "      <td>NaN</td>\n",
       "      <td>NaN</td>\n",
       "      <td>NaN</td>\n",
       "      <td>NaN</td>\n",
       "      <td>NaN</td>\n",
       "      <td>NaN</td>\n",
       "    </tr>\n",
       "    <tr>\n",
       "      <th>1</th>\n",
       "      <td>34.0</td>\n",
       "      <td>0.0</td>\n",
       "      <td>NaN</td>\n",
       "      <td>NaN</td>\n",
       "      <td>NaN</td>\n",
       "      <td>NaN</td>\n",
       "      <td>NaN</td>\n",
       "      <td>less than 100,000</td>\n",
       "      <td>NaN</td>\n",
       "      <td>NaN</td>\n",
       "      <td>...</td>\n",
       "      <td>1.0</td>\n",
       "      <td>NaN</td>\n",
       "      <td>NaN</td>\n",
       "      <td>NaN</td>\n",
       "      <td>NaN</td>\n",
       "      <td>NaN</td>\n",
       "      <td>NaN</td>\n",
       "      <td>NaN</td>\n",
       "      <td>NaN</td>\n",
       "      <td>NaN</td>\n",
       "    </tr>\n",
       "    <tr>\n",
       "      <th>2</th>\n",
       "      <td>21.0</td>\n",
       "      <td>0.0</td>\n",
       "      <td>NaN</td>\n",
       "      <td>NaN</td>\n",
       "      <td>NaN</td>\n",
       "      <td>NaN</td>\n",
       "      <td>NaN</td>\n",
       "      <td>more than 1 million</td>\n",
       "      <td>NaN</td>\n",
       "      <td>NaN</td>\n",
       "      <td>...</td>\n",
       "      <td>NaN</td>\n",
       "      <td>NaN</td>\n",
       "      <td>NaN</td>\n",
       "      <td>1.0</td>\n",
       "      <td>1.0</td>\n",
       "      <td>NaN</td>\n",
       "      <td>NaN</td>\n",
       "      <td>NaN</td>\n",
       "      <td>NaN</td>\n",
       "      <td>NaN</td>\n",
       "    </tr>\n",
       "    <tr>\n",
       "      <th>3</th>\n",
       "      <td>26.0</td>\n",
       "      <td>0.0</td>\n",
       "      <td>NaN</td>\n",
       "      <td>NaN</td>\n",
       "      <td>NaN</td>\n",
       "      <td>NaN</td>\n",
       "      <td>NaN</td>\n",
       "      <td>between 100,000 and 1 million</td>\n",
       "      <td>NaN</td>\n",
       "      <td>NaN</td>\n",
       "      <td>...</td>\n",
       "      <td>1.0</td>\n",
       "      <td>1.0</td>\n",
       "      <td>NaN</td>\n",
       "      <td>NaN</td>\n",
       "      <td>1.0</td>\n",
       "      <td>NaN</td>\n",
       "      <td>NaN</td>\n",
       "      <td>NaN</td>\n",
       "      <td>NaN</td>\n",
       "      <td>NaN</td>\n",
       "    </tr>\n",
       "    <tr>\n",
       "      <th>4</th>\n",
       "      <td>20.0</td>\n",
       "      <td>0.0</td>\n",
       "      <td>NaN</td>\n",
       "      <td>NaN</td>\n",
       "      <td>NaN</td>\n",
       "      <td>NaN</td>\n",
       "      <td>NaN</td>\n",
       "      <td>between 100,000 and 1 million</td>\n",
       "      <td>NaN</td>\n",
       "      <td>NaN</td>\n",
       "      <td>...</td>\n",
       "      <td>NaN</td>\n",
       "      <td>NaN</td>\n",
       "      <td>NaN</td>\n",
       "      <td>NaN</td>\n",
       "      <td>NaN</td>\n",
       "      <td>NaN</td>\n",
       "      <td>NaN</td>\n",
       "      <td>NaN</td>\n",
       "      <td>NaN</td>\n",
       "      <td>NaN</td>\n",
       "    </tr>\n",
       "  </tbody>\n",
       "</table>\n",
       "<p>5 rows × 136 columns</p>\n",
       "</div>"
      ],
      "text/plain": [
       "    Age  AttendedBootcamp  BootcampFinish  BootcampLoanYesNo BootcampName  \\\n",
       "0  27.0               0.0             NaN                NaN          NaN   \n",
       "1  34.0               0.0             NaN                NaN          NaN   \n",
       "2  21.0               0.0             NaN                NaN          NaN   \n",
       "3  26.0               0.0             NaN                NaN          NaN   \n",
       "4  20.0               0.0             NaN                NaN          NaN   \n",
       "\n",
       "   BootcampRecommend  ChildrenNumber                 CityPopulation  \\\n",
       "0                NaN             NaN            more than 1 million   \n",
       "1                NaN             NaN              less than 100,000   \n",
       "2                NaN             NaN            more than 1 million   \n",
       "3                NaN             NaN  between 100,000 and 1 million   \n",
       "4                NaN             NaN  between 100,000 and 1 million   \n",
       "\n",
       "   CodeEventConferences  CodeEventDjangoGirls         ...           \\\n",
       "0                   NaN                   NaN         ...            \n",
       "1                   NaN                   NaN         ...            \n",
       "2                   NaN                   NaN         ...            \n",
       "3                   NaN                   NaN         ...            \n",
       "4                   NaN                   NaN         ...            \n",
       "\n",
       "   YouTubeFCC  YouTubeFunFunFunction  YouTubeGoogleDev  YouTubeLearnCode  \\\n",
       "0         NaN                    NaN               NaN               NaN   \n",
       "1         1.0                    NaN               NaN               NaN   \n",
       "2         NaN                    NaN               NaN               1.0   \n",
       "3         1.0                    1.0               NaN               NaN   \n",
       "4         NaN                    NaN               NaN               NaN   \n",
       "\n",
       "   YouTubeLevelUpTuts  YouTubeMIT  YouTubeMozillaHacks YouTubeOther  \\\n",
       "0                 NaN         NaN                  NaN          NaN   \n",
       "1                 NaN         NaN                  NaN          NaN   \n",
       "2                 1.0         NaN                  NaN          NaN   \n",
       "3                 1.0         NaN                  NaN          NaN   \n",
       "4                 NaN         NaN                  NaN          NaN   \n",
       "\n",
       "   YouTubeSimplilearn  YouTubeTheNewBoston  \n",
       "0                 NaN                  NaN  \n",
       "1                 NaN                  NaN  \n",
       "2                 NaN                  NaN  \n",
       "3                 NaN                  NaN  \n",
       "4                 NaN                  NaN  \n",
       "\n",
       "[5 rows x 136 columns]"
      ]
     },
     "execution_count": 4,
     "metadata": {},
     "output_type": "execute_result"
    }
   ],
   "source": [
    "data.info()\n",
    "data.head()"
   ]
  },
  {
   "cell_type": "code",
   "execution_count": 5,
   "metadata": {
    "collapsed": false
   },
   "outputs": [
    {
     "name": "stdout",
     "output_type": "stream",
     "text": [
      "Age 15367\n",
      "AttendedBootcamp 17709\n",
      "CityPopulation 15354\n",
      "CommuteTime 9246\n",
      "CountryCitizen 15382\n",
      "CountryLive 15336\n",
      "EmploymentField 8116\n",
      "EmploymentStatus 14345\n",
      "ExpectedEarning 7200\n",
      "Gender 15454\n",
      "HasDebt 15291\n",
      "HasFinancialDependents 15329\n",
      "HasHighSpdInternet 15380\n",
      "HasHomeMortgage 6397\n",
      "HasServedInMilitary 15256\n",
      "HasStudentDebt 6402\n",
      "HoursLearning 16714\n",
      "ID.x 18175\n",
      "ID.y 15743\n",
      "Income 7623\n",
      "IsEthnicMinority 15293\n",
      "IsReceiveDisabilitiesBenefits 15222\n",
      "IsSoftwareDev 18068\n",
      "IsUnderEmployed 9223\n",
      "JobApplyWhen 8138\n",
      "JobPref 13483\n",
      "JobRelocateYesNo 6503\n",
      "JobRoleInterest 6992\n",
      "JobWherePref 8118\n",
      "LanguageAtHome 15344\n",
      "MaritalStatus 15335\n",
      "MoneyForLearning 16577\n",
      "MonthsProgramming 17084\n",
      "NetworkID 18175\n",
      "Part1EndTime 18175\n",
      "Part1StartTime 18175\n",
      "Part2EndTime 15743\n",
      "Part2StartTime 15743\n",
      "ResourceCodecademy 9390\n",
      "ResourceFCC 13803\n",
      "ResourceMDN 6417\n",
      "ResourceSO 11207\n",
      "ResourceUdemy 5120\n",
      "ResourceW3S 9765\n",
      "SchoolDegree 15368\n",
      "SchoolMajor 8727\n",
      "YouTubeFCC 6036\n"
     ]
    }
   ],
   "source": [
    "#Show all columns with more than 5 000 not Null values\n",
    "\n",
    "for i in data.columns:\n",
    "    if data[i].notna().sum() > 5000:\n",
    "        print(i, data[i].notna().sum())  "
   ]
  },
  {
   "cell_type": "markdown",
   "metadata": {},
   "source": [
    "# Relevant columns"
   ]
  },
  {
   "cell_type": "markdown",
   "metadata": {},
   "source": [
    "We've determined the columns we want to analize. These are:\n",
    "\n",
    "ID - unique number of a respondent\n",
    "CountryLive - a country where he lives\n",
    "MonthsProgramming - how long in months a person is learning programming\n",
    "MoneyForLearning - how much money a person has already spent on learning\n",
    "JobRoleInterest - which programming jobs the person is interested in"
   ]
  },
  {
   "cell_type": "code",
   "execution_count": 6,
   "metadata": {
    "collapsed": false
   },
   "outputs": [
    {
     "name": "stdout",
     "output_type": "stream",
     "text": [
      "<class 'pandas.core.frame.DataFrame'>\n",
      "RangeIndex: 18175 entries, 0 to 18174\n",
      "Data columns (total 5 columns):\n",
      "ID.x                 18175 non-null object\n",
      "CountryLive          15336 non-null object\n",
      "MonthsProgramming    17084 non-null float64\n",
      "MoneyForLearning     16577 non-null float64\n",
      "JobRoleInterest      6992 non-null object\n",
      "dtypes: float64(2), object(3)\n",
      "memory usage: 710.0+ KB\n"
     ]
    }
   ],
   "source": [
    "relevant_data = data[['ID.x',\n",
    "                      'CountryLive',\n",
    "                      'MonthsProgramming',\n",
    "                      'MoneyForLearning',\n",
    "                      'JobRoleInterest'\n",
    "                     ]].copy()\n",
    "relevant_data.info()"
   ]
  },
  {
   "cell_type": "markdown",
   "metadata": {},
   "source": [
    "# Dropping rows without job interest"
   ]
  },
  {
   "cell_type": "code",
   "execution_count": 7,
   "metadata": {
    "collapsed": false
   },
   "outputs": [
    {
     "name": "stdout",
     "output_type": "stream",
     "text": [
      "<class 'pandas.core.frame.DataFrame'>\n",
      "Int64Index: 6992 entries, 1 to 18174\n",
      "Data columns (total 5 columns):\n",
      "ID.x                 6992 non-null object\n",
      "CountryLive          6838 non-null object\n",
      "MonthsProgramming    6633 non-null float64\n",
      "MoneyForLearning     6476 non-null float64\n",
      "JobRoleInterest      6992 non-null object\n",
      "dtypes: float64(2), object(3)\n",
      "memory usage: 327.8+ KB\n"
     ]
    }
   ],
   "source": [
    "relevant_data = relevant_data[relevant_data['JobRoleInterest'].notnull()]\n",
    "relevant_data.info()"
   ]
  },
  {
   "cell_type": "markdown",
   "metadata": {},
   "source": [
    "# Dropping rows with nulls"
   ]
  },
  {
   "cell_type": "code",
   "execution_count": 8,
   "metadata": {
    "collapsed": false
   },
   "outputs": [
    {
     "name": "stdout",
     "output_type": "stream",
     "text": [
      "<class 'pandas.core.frame.DataFrame'>\n",
      "Int64Index: 6212 entries, 1 to 18171\n",
      "Data columns (total 5 columns):\n",
      "ID.x                 6212 non-null object\n",
      "CountryLive          6212 non-null object\n",
      "MonthsProgramming    6212 non-null float64\n",
      "MoneyForLearning     6212 non-null float64\n",
      "JobRoleInterest      6212 non-null object\n",
      "dtypes: float64(2), object(3)\n",
      "memory usage: 291.2+ KB\n"
     ]
    }
   ],
   "source": [
    "relevant_data.dropna(axis=0, inplace=True)\n",
    "relevant_data.info()"
   ]
  },
  {
   "cell_type": "markdown",
   "metadata": {},
   "source": [
    "# Renaming Columns"
   ]
  },
  {
   "cell_type": "code",
   "execution_count": 9,
   "metadata": {
    "collapsed": false
   },
   "outputs": [
    {
     "data": {
      "text/html": [
       "<div>\n",
       "<style scoped>\n",
       "    .dataframe tbody tr th:only-of-type {\n",
       "        vertical-align: middle;\n",
       "    }\n",
       "\n",
       "    .dataframe tbody tr th {\n",
       "        vertical-align: top;\n",
       "    }\n",
       "\n",
       "    .dataframe thead th {\n",
       "        text-align: right;\n",
       "    }\n",
       "</style>\n",
       "<table border=\"1\" class=\"dataframe\">\n",
       "  <thead>\n",
       "    <tr style=\"text-align: right;\">\n",
       "      <th></th>\n",
       "      <th>id</th>\n",
       "      <th>country</th>\n",
       "      <th>months_programming</th>\n",
       "      <th>money_for_learning</th>\n",
       "      <th>job_interest</th>\n",
       "    </tr>\n",
       "  </thead>\n",
       "  <tbody>\n",
       "    <tr>\n",
       "      <th>1</th>\n",
       "      <td>5bfef9ecb211ec4f518cfc1d2a6f3e0c</td>\n",
       "      <td>United States of America</td>\n",
       "      <td>6.0</td>\n",
       "      <td>80.0</td>\n",
       "      <td>Full-Stack Web Developer</td>\n",
       "    </tr>\n",
       "    <tr>\n",
       "      <th>2</th>\n",
       "      <td>14f1863afa9c7de488050b82eb3edd96</td>\n",
       "      <td>United States of America</td>\n",
       "      <td>5.0</td>\n",
       "      <td>1000.0</td>\n",
       "      <td>Front-End Web Developer, Back-End Web Develo...</td>\n",
       "    </tr>\n",
       "  </tbody>\n",
       "</table>\n",
       "</div>"
      ],
      "text/plain": [
       "                                 id                   country  \\\n",
       "1  5bfef9ecb211ec4f518cfc1d2a6f3e0c  United States of America   \n",
       "2  14f1863afa9c7de488050b82eb3edd96  United States of America   \n",
       "\n",
       "   months_programming  money_for_learning  \\\n",
       "1                 6.0                80.0   \n",
       "2                 5.0              1000.0   \n",
       "\n",
       "                                        job_interest  \n",
       "1                           Full-Stack Web Developer  \n",
       "2    Front-End Web Developer, Back-End Web Develo...  "
      ]
     },
     "execution_count": 9,
     "metadata": {},
     "output_type": "execute_result"
    }
   ],
   "source": [
    "relevant_data.rename(columns = {'ID.x': 'id',\n",
    "                                'CountryLive': 'country',\n",
    "                                'MonthsProgramming': 'months_programming',\n",
    "                                'MoneyForLearning': 'money_for_learning',\n",
    "                                'JobRoleInterest': 'job_interest'},\n",
    "                     inplace = True)\n",
    "relevant_data.head(2)"
   ]
  },
  {
   "cell_type": "markdown",
   "metadata": {},
   "source": [
    "# Exploring Job Interest"
   ]
  },
  {
   "cell_type": "code",
   "execution_count": 10,
   "metadata": {
    "collapsed": false
   },
   "outputs": [
    {
     "data": {
      "text/plain": [
       "Full-Stack Web Developer                                                                                                                                                       11.799742\n",
       "  Front-End Web Developer                                                                                                                                                       6.423052\n",
       "  Data Scientist                                                                                                                                                                2.189311\n",
       "Back-End Web Developer                                                                                                                                                          1.996137\n",
       "Game Developer                                                                                                                                                                  1.625885\n",
       "  Mobile Developer                                                                                                                                                              1.593690\n",
       "Information Security                                                                                                                                                            1.191243\n",
       "Full-Stack Web Developer,   Front-End Web Developer                                                                                                                             0.965873\n",
       "Data Engineer                                                                                                                                                                   0.756600\n",
       "  Product Manager                                                                                                                                                               0.756600\n",
       "  Front-End Web Developer, Full-Stack Web Developer                                                                                                                             0.756600\n",
       "  User Experience Designer                                                                                                                                                      0.724404\n",
       "  Front-End Web Developer, Back-End Web Developer, Full-Stack Web Developer                                                                                                     0.627817\n",
       "  User Experience Designer,   Front-End Web Developer                                                                                                                           0.595621\n",
       "  DevOps / SysAdmin                                                                                                                                                             0.515132\n",
       "Back-End Web Developer,   Front-End Web Developer, Full-Stack Web Developer                                                                                                     0.499034\n",
       "Back-End Web Developer, Full-Stack Web Developer,   Front-End Web Developer                                                                                                     0.482936\n",
       "Full-Stack Web Developer,   Front-End Web Developer, Back-End Web Developer                                                                                                     0.466838\n",
       "Full-Stack Web Developer,   Mobile Developer                                                                                                                                    0.450741\n",
       "  Front-End Web Developer, Full-Stack Web Developer, Back-End Web Developer                                                                                                     0.434643\n",
       "  Front-End Web Developer,   User Experience Designer                                                                                                                           0.418545\n",
       "Full-Stack Web Developer, Back-End Web Developer                                                                                                                                0.386349\n",
       "Back-End Web Developer, Full-Stack Web Developer                                                                                                                                0.370251\n",
       "Full-Stack Web Developer, Back-End Web Developer,   Front-End Web Developer                                                                                                     0.289762\n",
       "Back-End Web Developer,   Front-End Web Developer                                                                                                                               0.257566\n",
       "Data Engineer,   Data Scientist                                                                                                                                                 0.257566\n",
       "Full-Stack Web Developer,   Data Scientist                                                                                                                                      0.257566\n",
       "  Data Scientist, Data Engineer                                                                                                                                                 0.225370\n",
       "  Mobile Developer,   Front-End Web Developer                                                                                                                                   0.225370\n",
       "  Mobile Developer, Full-Stack Web Developer                                                                                                                                    0.225370\n",
       "                                                                                                                                                                                 ...    \n",
       "  Front-End Web Developer, Full-Stack Web Developer, Information Security,   Data Scientist, Back-End Web Developer, Game Developer                                             0.016098\n",
       "Back-End Web Developer, Data Engineer,   Quality Assurance Engineer, Full-Stack Web Developer                                                                                   0.016098\n",
       "Full-Stack Web Developer, Back-End Web Developer, Data Engineer,   Quality Assurance Engineer,   Data Scientist                                                                 0.016098\n",
       "  Mobile Developer, Back-End Web Developer, Full-Stack Web Developer,   Data Scientist                                                                                          0.016098\n",
       "Back-End Web Developer,   DevOps / SysAdmin, Information Security,   Front-End Web Developer, Full-Stack Web Developer                                                          0.016098\n",
       "Information Security, Full-Stack Web Developer,   Front-End Web Developer,   User Experience Designer,   Mobile Developer                                                       0.016098\n",
       "  Data Scientist, Data Engineer, Back-End Web Developer, Information Security                                                                                                   0.016098\n",
       "Information Security,   Mobile Developer,   Front-End Web Developer, Full-Stack Web Developer, Back-End Web Developer, Game Developer                                           0.016098\n",
       "  Front-End Web Developer,   DevOps / SysAdmin,   Data Scientist, Full-Stack Web Developer, Back-End Web Developer                                                              0.016098\n",
       "Data Engineer,   Data Scientist,   Mobile Developer, Full-Stack Web Developer, Back-End Web Developer                                                                           0.016098\n",
       "  User Experience Designer,   Mobile Developer,   Data Scientist, Information Security, Data Engineer, Back-End Web Developer                                                   0.016098\n",
       "  DevOps / SysAdmin, Game Developer, Full-Stack Web Developer,   Data Scientist,   Product Manager,   Mobile Developer                                                          0.016098\n",
       "Full-Stack Web Developer,   Quality Assurance Engineer, Back-End Web Developer, Information Security, Game Developer                                                            0.016098\n",
       "  Mobile Developer, Information Security, Data Engineer, Back-End Web Developer, Game Developer,   Data Scientist, Full-Stack Web Developer                                     0.016098\n",
       "Full-Stack Web Developer, Back-End Web Developer,   Mobile Developer,   Front-End Web Developer,   DevOps / SysAdmin, Information Security                                      0.016098\n",
       "  Data Scientist, Full-Stack Web Developer,   Mobile Developer, Information Security, Back-End Web Developer,   Front-End Web Developer                                         0.016098\n",
       "Back-End Web Developer,   Mobile Developer,   Front-End Web Developer,   Data Scientist,   DevOps / SysAdmin, Full-Stack Web Developer, Data Engineer, Information Security     0.016098\n",
       "Back-End Web Developer, Full-Stack Web Developer,   Front-End Web Developer,   User Experience Designer, Data Engineer,   Quality Assurance Engineer,   Data Scientist          0.016098\n",
       "Full-Stack Web Developer,   Front-End Web Developer, Data Engineer, Game Developer,   Data Scientist                                                                            0.016098\n",
       "Full-Stack Web Developer,   Front-End Web Developer, Back-End Web Developer,   User Experience Designer,   Product Manager,   Mobile Developer                                  0.016098\n",
       "Information Security,   Data Scientist, Full-Stack Web Developer,   Mobile Developer,   DevOps / SysAdmin,   Front-End Web Developer                                            0.016098\n",
       "  Product Manager,   Front-End Web Developer, Full-Stack Web Developer,   User Experience Designer                                                                              0.016098\n",
       "Back-End Web Developer, Information Security,   DevOps / SysAdmin, Full-Stack Web Developer,   Front-End Web Developer, Game Developer                                          0.016098\n",
       "Back-End Web Developer, Data Engineer, Full-Stack Web Developer,   DevOps / SysAdmin,   Product Manager                                                                         0.016098\n",
       "  Front-End Web Developer, Full-Stack Web Developer,   User Experience Designer, Back-End Web Developer, Game Developer                                                         0.016098\n",
       "Information Security,   Product Manager, Full-Stack Web Developer,   DevOps / SysAdmin, Back-End Web Developer                                                                  0.016098\n",
       "Back-End Web Developer,   Mobile Developer, Full-Stack Web Developer,   DevOps / SysAdmin,   Front-End Web Developer, Data Engineer,   Product Manager                          0.016098\n",
       "Full-Stack Web Developer, Back-End Web Developer,   Front-End Web Developer,   User Experience Designer, Game Developer                                                         0.016098\n",
       "  User Experience Designer, Back-End Web Developer, Data Engineer,   Front-End Web Developer                                                                                    0.016098\n",
       "Data Engineer,   Front-End Web Developer,   Data Scientist, Back-End Web Developer,   Mobile Developer, Game Developer                                                          0.016098\n",
       "Name: job_interest, Length: 2905, dtype: float64"
      ]
     },
     "execution_count": 10,
     "metadata": {},
     "output_type": "execute_result"
    }
   ],
   "source": [
    "relevant_data['job_interest'].value_counts(normalize=True)*100"
   ]
  },
  {
   "cell_type": "markdown",
   "metadata": {},
   "source": [
    "# Deviding Job Interest"
   ]
  },
  {
   "cell_type": "code",
   "execution_count": 11,
   "metadata": {
    "collapsed": false
   },
   "outputs": [
    {
     "name": "stdout",
     "output_type": "stream",
     "text": [
      "<class 'pandas.core.frame.DataFrame'>\n",
      "Int64Index: 6212 entries, 1 to 18171\n",
      "Data columns (total 18 columns):\n",
      "id                    6212 non-null object\n",
      "country               6212 non-null object\n",
      "months_programming    6212 non-null float64\n",
      "money_for_learning    6212 non-null float64\n",
      "job_interest          6212 non-null object\n",
      "0                     6212 non-null object\n",
      "1                     4263 non-null object\n",
      "2                     3590 non-null object\n",
      "3                     2602 non-null object\n",
      "4                     1650 non-null object\n",
      "5                     904 non-null object\n",
      "6                     471 non-null object\n",
      "7                     225 non-null object\n",
      "8                     118 non-null object\n",
      "9                     56 non-null object\n",
      "10                    30 non-null object\n",
      "11                    20 non-null object\n",
      "12                    2 non-null object\n",
      "dtypes: float64(2), object(16)\n",
      "memory usage: 922.1+ KB\n"
     ]
    },
    {
     "data": {
      "text/html": [
       "<div>\n",
       "<style scoped>\n",
       "    .dataframe tbody tr th:only-of-type {\n",
       "        vertical-align: middle;\n",
       "    }\n",
       "\n",
       "    .dataframe tbody tr th {\n",
       "        vertical-align: top;\n",
       "    }\n",
       "\n",
       "    .dataframe thead th {\n",
       "        text-align: right;\n",
       "    }\n",
       "</style>\n",
       "<table border=\"1\" class=\"dataframe\">\n",
       "  <thead>\n",
       "    <tr style=\"text-align: right;\">\n",
       "      <th></th>\n",
       "      <th>id</th>\n",
       "      <th>country</th>\n",
       "      <th>months_programming</th>\n",
       "      <th>money_for_learning</th>\n",
       "      <th>job_interest</th>\n",
       "      <th>0</th>\n",
       "      <th>1</th>\n",
       "      <th>2</th>\n",
       "      <th>3</th>\n",
       "      <th>4</th>\n",
       "      <th>5</th>\n",
       "      <th>6</th>\n",
       "      <th>7</th>\n",
       "      <th>8</th>\n",
       "      <th>9</th>\n",
       "      <th>10</th>\n",
       "      <th>11</th>\n",
       "      <th>12</th>\n",
       "    </tr>\n",
       "  </thead>\n",
       "  <tbody>\n",
       "    <tr>\n",
       "      <th>1</th>\n",
       "      <td>5bfef9ecb211ec4f518cfc1d2a6f3e0c</td>\n",
       "      <td>United States of America</td>\n",
       "      <td>6.0</td>\n",
       "      <td>80.0</td>\n",
       "      <td>Full-Stack Web Developer</td>\n",
       "      <td>Full-Stack Web Developer</td>\n",
       "      <td>None</td>\n",
       "      <td>None</td>\n",
       "      <td>None</td>\n",
       "      <td>None</td>\n",
       "      <td>None</td>\n",
       "      <td>None</td>\n",
       "      <td>None</td>\n",
       "      <td>None</td>\n",
       "      <td>None</td>\n",
       "      <td>None</td>\n",
       "      <td>None</td>\n",
       "      <td>None</td>\n",
       "    </tr>\n",
       "    <tr>\n",
       "      <th>2</th>\n",
       "      <td>14f1863afa9c7de488050b82eb3edd96</td>\n",
       "      <td>United States of America</td>\n",
       "      <td>5.0</td>\n",
       "      <td>1000.0</td>\n",
       "      <td>Front-End Web Developer, Back-End Web Develo...</td>\n",
       "      <td>Front-End Web Developer</td>\n",
       "      <td>Back-End Web Developer</td>\n",
       "      <td>DevOps / SysAdmin</td>\n",
       "      <td>Mobile Developer</td>\n",
       "      <td>Full-Stack Web Developer</td>\n",
       "      <td>None</td>\n",
       "      <td>None</td>\n",
       "      <td>None</td>\n",
       "      <td>None</td>\n",
       "      <td>None</td>\n",
       "      <td>None</td>\n",
       "      <td>None</td>\n",
       "      <td>None</td>\n",
       "    </tr>\n",
       "    <tr>\n",
       "      <th>3</th>\n",
       "      <td>91756eb4dc280062a541c25a3d44cfb0</td>\n",
       "      <td>Brazil</td>\n",
       "      <td>5.0</td>\n",
       "      <td>0.0</td>\n",
       "      <td>Front-End Web Developer, Full-Stack Web Deve...</td>\n",
       "      <td>Front-End Web Developer</td>\n",
       "      <td>Full-Stack Web Developer</td>\n",
       "      <td>Back-End Web Developer</td>\n",
       "      <td>None</td>\n",
       "      <td>None</td>\n",
       "      <td>None</td>\n",
       "      <td>None</td>\n",
       "      <td>None</td>\n",
       "      <td>None</td>\n",
       "      <td>None</td>\n",
       "      <td>None</td>\n",
       "      <td>None</td>\n",
       "      <td>None</td>\n",
       "    </tr>\n",
       "    <tr>\n",
       "      <th>4</th>\n",
       "      <td>aa3f061a1949a90b27bef7411ecd193f</td>\n",
       "      <td>Portugal</td>\n",
       "      <td>24.0</td>\n",
       "      <td>0.0</td>\n",
       "      <td>Full-Stack Web Developer, Information Security...</td>\n",
       "      <td>Full-Stack Web Developer</td>\n",
       "      <td>Information Security</td>\n",
       "      <td>Mobile Developer</td>\n",
       "      <td>Front-End Web Developer</td>\n",
       "      <td>Back-End Web Developer</td>\n",
       "      <td>None</td>\n",
       "      <td>None</td>\n",
       "      <td>None</td>\n",
       "      <td>None</td>\n",
       "      <td>None</td>\n",
       "      <td>None</td>\n",
       "      <td>None</td>\n",
       "      <td>None</td>\n",
       "    </tr>\n",
       "    <tr>\n",
       "      <th>6</th>\n",
       "      <td>5e130f133306abd6c2f9af31467ff37c</td>\n",
       "      <td>United Kingdom</td>\n",
       "      <td>12.0</td>\n",
       "      <td>0.0</td>\n",
       "      <td>Full-Stack Web Developer</td>\n",
       "      <td>Full-Stack Web Developer</td>\n",
       "      <td>None</td>\n",
       "      <td>None</td>\n",
       "      <td>None</td>\n",
       "      <td>None</td>\n",
       "      <td>None</td>\n",
       "      <td>None</td>\n",
       "      <td>None</td>\n",
       "      <td>None</td>\n",
       "      <td>None</td>\n",
       "      <td>None</td>\n",
       "      <td>None</td>\n",
       "      <td>None</td>\n",
       "    </tr>\n",
       "  </tbody>\n",
       "</table>\n",
       "</div>"
      ],
      "text/plain": [
       "                                 id                   country  \\\n",
       "1  5bfef9ecb211ec4f518cfc1d2a6f3e0c  United States of America   \n",
       "2  14f1863afa9c7de488050b82eb3edd96  United States of America   \n",
       "3  91756eb4dc280062a541c25a3d44cfb0                    Brazil   \n",
       "4  aa3f061a1949a90b27bef7411ecd193f                  Portugal   \n",
       "6  5e130f133306abd6c2f9af31467ff37c            United Kingdom   \n",
       "\n",
       "   months_programming  money_for_learning  \\\n",
       "1                 6.0                80.0   \n",
       "2                 5.0              1000.0   \n",
       "3                 5.0                 0.0   \n",
       "4                24.0                 0.0   \n",
       "6                12.0                 0.0   \n",
       "\n",
       "                                        job_interest  \\\n",
       "1                           Full-Stack Web Developer   \n",
       "2    Front-End Web Developer, Back-End Web Develo...   \n",
       "3    Front-End Web Developer, Full-Stack Web Deve...   \n",
       "4  Full-Stack Web Developer, Information Security...   \n",
       "6                           Full-Stack Web Developer   \n",
       "\n",
       "                           0                          1  \\\n",
       "1   Full-Stack Web Developer                       None   \n",
       "2    Front-End Web Developer     Back-End Web Developer   \n",
       "3    Front-End Web Developer   Full-Stack Web Developer   \n",
       "4   Full-Stack Web Developer       Information Security   \n",
       "6   Full-Stack Web Developer                       None   \n",
       "\n",
       "                         2                           3  \\\n",
       "1                     None                        None   \n",
       "2        DevOps / SysAdmin            Mobile Developer   \n",
       "3   Back-End Web Developer                        None   \n",
       "4         Mobile Developer     Front-End Web Developer   \n",
       "6                     None                        None   \n",
       "\n",
       "                           4     5     6     7     8     9    10    11    12  \n",
       "1                       None  None  None  None  None  None  None  None  None  \n",
       "2   Full-Stack Web Developer  None  None  None  None  None  None  None  None  \n",
       "3                       None  None  None  None  None  None  None  None  None  \n",
       "4     Back-End Web Developer  None  None  None  None  None  None  None  None  \n",
       "6                       None  None  None  None  None  None  None  None  None  "
      ]
     },
     "execution_count": 11,
     "metadata": {},
     "output_type": "execute_result"
    }
   ],
   "source": [
    "jobs = relevant_data['job_interest'].str.split(',', expand = True).copy()\n",
    "\n",
    "splited_db = pd.concat([relevant_data, jobs], axis=1)\n",
    "splited_db.info()\n",
    "splited_db.head()"
   ]
  },
  {
   "cell_type": "markdown",
   "metadata": {},
   "source": [
    "# Deleting initial job column in the merged db"
   ]
  },
  {
   "cell_type": "code",
   "execution_count": 12,
   "metadata": {
    "collapsed": false
   },
   "outputs": [
    {
     "name": "stdout",
     "output_type": "stream",
     "text": [
      "<class 'pandas.core.frame.DataFrame'>\n",
      "Int64Index: 6212 entries, 1 to 18171\n",
      "Data columns (total 17 columns):\n",
      "id                    6212 non-null object\n",
      "country               6212 non-null object\n",
      "months_programming    6212 non-null float64\n",
      "money_for_learning    6212 non-null float64\n",
      "0                     6212 non-null object\n",
      "1                     4263 non-null object\n",
      "2                     3590 non-null object\n",
      "3                     2602 non-null object\n",
      "4                     1650 non-null object\n",
      "5                     904 non-null object\n",
      "6                     471 non-null object\n",
      "7                     225 non-null object\n",
      "8                     118 non-null object\n",
      "9                     56 non-null object\n",
      "10                    30 non-null object\n",
      "11                    20 non-null object\n",
      "12                    2 non-null object\n",
      "dtypes: float64(2), object(15)\n",
      "memory usage: 873.6+ KB\n"
     ]
    }
   ],
   "source": [
    "splited_db.drop('job_interest', axis=1, inplace=True)\n",
    "splited_db.info()"
   ]
  },
  {
   "cell_type": "markdown",
   "metadata": {},
   "source": [
    "# Melting"
   ]
  },
  {
   "cell_type": "code",
   "execution_count": 13,
   "metadata": {
    "collapsed": false
   },
   "outputs": [
    {
     "name": "stdout",
     "output_type": "stream",
     "text": [
      "<class 'pandas.core.frame.DataFrame'>\n",
      "Int64Index: 20143 entries, 0 to 80755\n",
      "Data columns (total 6 columns):\n",
      "id                    20143 non-null object\n",
      "country               20143 non-null object\n",
      "months_programming    20143 non-null float64\n",
      "money_for_learning    20143 non-null float64\n",
      "mention_num           20143 non-null object\n",
      "value                 20143 non-null object\n",
      "dtypes: float64(2), object(4)\n",
      "memory usage: 1.1+ MB\n"
     ]
    },
    {
     "data": {
      "text/html": [
       "<div>\n",
       "<style scoped>\n",
       "    .dataframe tbody tr th:only-of-type {\n",
       "        vertical-align: middle;\n",
       "    }\n",
       "\n",
       "    .dataframe tbody tr th {\n",
       "        vertical-align: top;\n",
       "    }\n",
       "\n",
       "    .dataframe thead th {\n",
       "        text-align: right;\n",
       "    }\n",
       "</style>\n",
       "<table border=\"1\" class=\"dataframe\">\n",
       "  <thead>\n",
       "    <tr style=\"text-align: right;\">\n",
       "      <th></th>\n",
       "      <th>id</th>\n",
       "      <th>country</th>\n",
       "      <th>months_programming</th>\n",
       "      <th>money_for_learning</th>\n",
       "      <th>mention_num</th>\n",
       "      <th>value</th>\n",
       "    </tr>\n",
       "  </thead>\n",
       "  <tbody>\n",
       "    <tr>\n",
       "      <th>6803</th>\n",
       "      <td>fffba79ffe1aacf3aaa4d55cd42c826e</td>\n",
       "      <td>India</td>\n",
       "      <td>8.0</td>\n",
       "      <td>0.0</td>\n",
       "      <td>1</td>\n",
       "      <td>Full-Stack Web Developer</td>\n",
       "    </tr>\n",
       "    <tr>\n",
       "      <th>19227</th>\n",
       "      <td>fffba79ffe1aacf3aaa4d55cd42c826e</td>\n",
       "      <td>India</td>\n",
       "      <td>8.0</td>\n",
       "      <td>0.0</td>\n",
       "      <td>3</td>\n",
       "      <td>Data Scientist</td>\n",
       "    </tr>\n",
       "    <tr>\n",
       "      <th>591</th>\n",
       "      <td>fffba79ffe1aacf3aaa4d55cd42c826e</td>\n",
       "      <td>India</td>\n",
       "      <td>8.0</td>\n",
       "      <td>0.0</td>\n",
       "      <td>0</td>\n",
       "      <td>Back-End Web Developer</td>\n",
       "    </tr>\n",
       "    <tr>\n",
       "      <th>13015</th>\n",
       "      <td>fffba79ffe1aacf3aaa4d55cd42c826e</td>\n",
       "      <td>India</td>\n",
       "      <td>8.0</td>\n",
       "      <td>0.0</td>\n",
       "      <td>2</td>\n",
       "      <td>Data Engineer</td>\n",
       "    </tr>\n",
       "    <tr>\n",
       "      <th>52506</th>\n",
       "      <td>fff57c57c3e9e9762f5410204dfa8281</td>\n",
       "      <td>Canada</td>\n",
       "      <td>6.0</td>\n",
       "      <td>400.0</td>\n",
       "      <td>8</td>\n",
       "      <td>Mobile Developer</td>\n",
       "    </tr>\n",
       "    <tr>\n",
       "      <th>33870</th>\n",
       "      <td>fff57c57c3e9e9762f5410204dfa8281</td>\n",
       "      <td>Canada</td>\n",
       "      <td>6.0</td>\n",
       "      <td>400.0</td>\n",
       "      <td>5</td>\n",
       "      <td>Back-End Web Developer</td>\n",
       "    </tr>\n",
       "    <tr>\n",
       "      <th>27658</th>\n",
       "      <td>fff57c57c3e9e9762f5410204dfa8281</td>\n",
       "      <td>Canada</td>\n",
       "      <td>6.0</td>\n",
       "      <td>400.0</td>\n",
       "      <td>4</td>\n",
       "      <td>Information Security</td>\n",
       "    </tr>\n",
       "    <tr>\n",
       "      <th>2810</th>\n",
       "      <td>fff57c57c3e9e9762f5410204dfa8281</td>\n",
       "      <td>Canada</td>\n",
       "      <td>6.0</td>\n",
       "      <td>400.0</td>\n",
       "      <td>0</td>\n",
       "      <td>Quality Assurance Engineer</td>\n",
       "    </tr>\n",
       "    <tr>\n",
       "      <th>15234</th>\n",
       "      <td>fff57c57c3e9e9762f5410204dfa8281</td>\n",
       "      <td>Canada</td>\n",
       "      <td>6.0</td>\n",
       "      <td>400.0</td>\n",
       "      <td>2</td>\n",
       "      <td>Data Scientist</td>\n",
       "    </tr>\n",
       "    <tr>\n",
       "      <th>9022</th>\n",
       "      <td>fff57c57c3e9e9762f5410204dfa8281</td>\n",
       "      <td>Canada</td>\n",
       "      <td>6.0</td>\n",
       "      <td>400.0</td>\n",
       "      <td>1</td>\n",
       "      <td>DevOps / SysAdmin</td>\n",
       "    </tr>\n",
       "  </tbody>\n",
       "</table>\n",
       "</div>"
      ],
      "text/plain": [
       "                                     id country  months_programming  \\\n",
       "6803   fffba79ffe1aacf3aaa4d55cd42c826e   India                 8.0   \n",
       "19227  fffba79ffe1aacf3aaa4d55cd42c826e   India                 8.0   \n",
       "591    fffba79ffe1aacf3aaa4d55cd42c826e   India                 8.0   \n",
       "13015  fffba79ffe1aacf3aaa4d55cd42c826e   India                 8.0   \n",
       "52506  fff57c57c3e9e9762f5410204dfa8281  Canada                 6.0   \n",
       "33870  fff57c57c3e9e9762f5410204dfa8281  Canada                 6.0   \n",
       "27658  fff57c57c3e9e9762f5410204dfa8281  Canada                 6.0   \n",
       "2810   fff57c57c3e9e9762f5410204dfa8281  Canada                 6.0   \n",
       "15234  fff57c57c3e9e9762f5410204dfa8281  Canada                 6.0   \n",
       "9022   fff57c57c3e9e9762f5410204dfa8281  Canada                 6.0   \n",
       "\n",
       "       money_for_learning mention_num                         value  \n",
       "6803                  0.0           1      Full-Stack Web Developer  \n",
       "19227                 0.0           3                Data Scientist  \n",
       "591                   0.0           0        Back-End Web Developer  \n",
       "13015                 0.0           2                 Data Engineer  \n",
       "52506               400.0           8              Mobile Developer  \n",
       "33870               400.0           5        Back-End Web Developer  \n",
       "27658               400.0           4          Information Security  \n",
       "2810                400.0           0    Quality Assurance Engineer  \n",
       "15234               400.0           2                Data Scientist  \n",
       "9022                400.0           1             DevOps / SysAdmin  "
      ]
     },
     "execution_count": 13,
     "metadata": {},
     "output_type": "execute_result"
    }
   ],
   "source": [
    "melted_db = splited_db.melt(id_vars = ['id',\n",
    "                                       'country', \n",
    "                                       'months_programming',\n",
    "                                       'money_for_learning'],\n",
    "                            value_vars = [0,1,2,3,4,5,6,7,8,9,10,11,12]                 \n",
    "                            )\n",
    "melted_db = melted_db[melted_db['value'].notnull()]\n",
    "melted_db.rename(columns = {'variable': 'mention_num'}, inplace=True)\n",
    "melted_db.info()\n",
    "melted_db.sort_values('id', ascending=False).head(10)"
   ]
  },
  {
   "cell_type": "markdown",
   "metadata": {},
   "source": [
    "# Cleaning"
   ]
  },
  {
   "cell_type": "code",
   "execution_count": 14,
   "metadata": {
    "collapsed": false
   },
   "outputs": [
    {
     "data": {
      "text/plain": [
       " Full-Stack Web Developer      2228\n",
       "   Front-End Web Developer     2046\n",
       " Back-End Web Developer        1810\n",
       "Full-Stack Web Developer       1555\n",
       "   Mobile Developer            1531\n",
       "  Front-End Web Developer      1105\n",
       " Game Developer                1028\n",
       "   Data Scientist               995\n",
       "   User Experience Designer     966\n",
       " Information Security           873\n",
       " Data Engineer                  838\n",
       "Back-End Web Developer          686\n",
       "   DevOps / SysAdmin            633\n",
       "   Product Manager              531\n",
       "  Mobile Developer              500\n",
       "Name: value, dtype: int64"
      ]
     },
     "execution_count": 14,
     "metadata": {},
     "output_type": "execute_result"
    }
   ],
   "source": [
    "melted_db['value'].value_counts().head(15)"
   ]
  },
  {
   "cell_type": "markdown",
   "metadata": {},
   "source": [
    "get rid the whitespaces, because that's too much"
   ]
  },
  {
   "cell_type": "code",
   "execution_count": 15,
   "metadata": {
    "collapsed": true
   },
   "outputs": [],
   "source": [
    "melted_db['value'] = melted_db['value'].str.strip()"
   ]
  },
  {
   "cell_type": "code",
   "execution_count": 16,
   "metadata": {
    "collapsed": false
   },
   "outputs": [
    {
     "data": {
      "text/plain": [
       "Full-Stack Web Developer                                                                     3783\n",
       "Front-End Web Developer                                                                      3151\n",
       "Back-End Web Developer                                                                       2496\n",
       "Mobile Developer                                                                             2031\n",
       "Data Scientist                                                                               1460\n",
       "Game Developer                                                                               1441\n",
       "User Experience Designer                                                                     1306\n",
       "Information Security                                                                         1165\n",
       "Data Engineer                                                                                1108\n",
       "DevOps / SysAdmin                                                                             838\n",
       "Product Manager                                                                               718\n",
       "Quality Assurance Engineer                                                                    433\n",
       "Software Engineer                                                                               9\n",
       "Software Developer                                                                              6\n",
       "Software engineer                                                                               4\n",
       "Artificial Intelligence                                                                         4\n",
       "Desktop Application Developer                                                                   3\n",
       "undecided                                                                                       2\n",
       "Programmer                                                                                      2\n",
       "data analyst                                                                                    2\n",
       "User Interface Designer                                                                         2\n",
       "Data Analyst                                                                                    2\n",
       "Bioinformatics                                                                                  2\n",
       "Machine Learning                                                                                2\n",
       "Not sure yet                                                                                    2\n",
       "Business Analyst                                                                                2\n",
       "Machine Learning Engineer                                                                       2\n",
       "Unsure                                                                                          2\n",
       "Web Designer                                                                                    2\n",
       "Java developer                                                                                  2\n",
       "                                                                                             ... \n",
       "Application Support Analyst                                                                     1\n",
       "IT specialist                                                                                   1\n",
       "Information Technology                                                                          1\n",
       "app dev etc.                                                                                    1\n",
       "Ceo                                                                                             1\n",
       "Natural Language Processing                                                                     1\n",
       "College professor                                                                               1\n",
       "Web Design                                                                                      1\n",
       "VR Technology developer                                                                         1\n",
       "Any of them.                                                                                    1\n",
       "IoT                                                                                             1\n",
       "Desktop applications developer                                                                  1\n",
       "support scientific resaerch                                                                     1\n",
       "System Administrator/Network                                                                    1\n",
       "Journalist                                                                                      1\n",
       "Scientific Programming                                                                          1\n",
       "Embedded Developer                                                                              1\n",
       "back-end                                                                                        1\n",
       "Software enginner                                                                               1\n",
       "Software developer                                                                              1\n",
       "AI                                                                                              1\n",
       "a job in which I can use coding skills to create valuable portals to advance human rights       1\n",
       "Front end                                                                                       1\n",
       "front-end                                                                                       1\n",
       "Software Engineers                                                                              1\n",
       "Not Sure                                                                                        1\n",
       "Campaign Manager                                                                                1\n",
       "Don't know yet                                                                                  1\n",
       "GIS Database Admin                                                                              1\n",
       "Digital Humanitites                                                                             1\n",
       "Name: value, Length: 187, dtype: int64"
      ]
     },
     "execution_count": 16,
     "metadata": {},
     "output_type": "execute_result"
    }
   ],
   "source": [
    "melted_db['value'].value_counts()"
   ]
  },
  {
   "cell_type": "markdown",
   "metadata": {},
   "source": [
    "grouping jobs with less that 10 mentions to \"Others\""
   ]
  },
  {
   "cell_type": "code",
   "execution_count": 17,
   "metadata": {
    "collapsed": false
   },
   "outputs": [
    {
     "data": {
      "text/plain": [
       "['Full-Stack Web Developer',\n",
       " 'Front-End Web Developer',\n",
       " 'Back-End Web Developer',\n",
       " 'Mobile Developer',\n",
       " 'Data Scientist',\n",
       " 'Game Developer',\n",
       " 'User Experience Designer',\n",
       " 'Information Security',\n",
       " 'Data Engineer',\n",
       " 'DevOps / SysAdmin',\n",
       " 'Product Manager',\n",
       " 'Quality Assurance Engineer']"
      ]
     },
     "execution_count": 17,
     "metadata": {},
     "output_type": "execute_result"
    }
   ],
   "source": [
    "frequencies = melted_db['value'].value_counts().head(12)\n",
    "job_list = list(frequencies.index)\n",
    "job_list"
   ]
  },
  {
   "cell_type": "code",
   "execution_count": 18,
   "metadata": {
    "collapsed": false
   },
   "outputs": [
    {
     "data": {
      "text/plain": [
       "['Full-Stack Web Developer',\n",
       " 'Front-End Web Developer',\n",
       " 'Back-End Web Developer',\n",
       " 'Mobile Developer',\n",
       " 'Data Scientist',\n",
       " 'Game Developer',\n",
       " 'User Experience Designer',\n",
       " 'Information Security',\n",
       " 'Data Engineer',\n",
       " 'DevOps / SysAdmin',\n",
       " 'Product Manager',\n",
       " 'Quality Assurance Engineer']"
      ]
     },
     "execution_count": 18,
     "metadata": {},
     "output_type": "execute_result"
    }
   ],
   "source": [
    "frequencies = melted_db['value'].value_counts().head(12)\n",
    "job_list = list(frequencies.index)\n",
    "job_list"
   ]
  },
  {
   "cell_type": "code",
   "execution_count": 19,
   "metadata": {
    "collapsed": true
   },
   "outputs": [],
   "source": [
    "melted_db['value'] = melted_db['value'].apply(lambda x: x if x in job_list else 'Others')"
   ]
  },
  {
   "cell_type": "code",
   "execution_count": 20,
   "metadata": {
    "collapsed": false
   },
   "outputs": [
    {
     "data": {
      "text/plain": [
       "Full-Stack Web Developer      18.780718\n",
       "Front-End Web Developer       15.643151\n",
       "Back-End Web Developer        12.391401\n",
       "Mobile Developer              10.082907\n",
       "Data Scientist                 7.248176\n",
       "Game Developer                 7.153850\n",
       "User Experience Designer       6.483642\n",
       "Information Security           5.783647\n",
       "Data Engineer                  5.500670\n",
       "DevOps / SysAdmin              4.160254\n",
       "Product Manager                3.564514\n",
       "Quality Assurance Engineer     2.149630\n",
       "Others                         1.057439\n",
       "Name: value, dtype: float64"
      ]
     },
     "execution_count": 20,
     "metadata": {},
     "output_type": "execute_result"
    }
   ],
   "source": [
    "(melted_db['value'].value_counts(normalize=True) * 100).head(20)"
   ]
  },
  {
   "cell_type": "markdown",
   "metadata": {},
   "source": [
    "# Analizing job interests"
   ]
  },
  {
   "cell_type": "code",
   "execution_count": 21,
   "metadata": {
    "collapsed": false
   },
   "outputs": [
    {
     "data": {
      "text/plain": [
       "Full-Stack Web Developer      20.988269\n",
       "Front-End Web Developer       16.885887\n",
       "Back-End Web Developer        12.264486\n",
       "Mobile Developer               9.662282\n",
       "Data Scientist                 7.095627\n",
       "Game Developer                 7.017419\n",
       "User Experience Designer       6.142908\n",
       "Information Security           5.311056\n",
       "Data Engineer                  4.820476\n",
       "DevOps / SysAdmin              3.618912\n",
       "Product Manager                3.448276\n",
       "Quality Assurance Engineer     1.770352\n",
       "Others                         0.974049\n",
       "Name: value, dtype: float64"
      ]
     },
     "execution_count": 21,
     "metadata": {},
     "output_type": "execute_result"
    }
   ],
   "source": [
    "(melted_db[melted_db['mention_num'] < 3]['value'].value_counts(normalize=True) * 100).head(20)"
   ]
  },
  {
   "cell_type": "code",
   "execution_count": 22,
   "metadata": {
    "collapsed": false
   },
   "outputs": [
    {
     "data": {
      "image/png": "[encoded data removed]",
      "text/plain": [
       "<matplotlib.figure.Figure at 0x7fc356b7e908>"
      ]
     },
     "metadata": {},
     "output_type": "display_data"
    }
   ],
   "source": [
    "melted_db['value'].value_counts().sort_values().plot.barh()\n",
    "plt.show()"
   ]
  },
  {
   "cell_type": "markdown",
   "metadata": {},
   "source": [
    "# Finding the best countries"
   ]
  },
  {
   "cell_type": "code",
   "execution_count": 23,
   "metadata": {
    "collapsed": false
   },
   "outputs": [
    {
     "data": {
      "text/plain": [
       "United States of America    2933\n",
       "India                        463\n",
       "United Kingdom               279\n",
       "Canada                       240\n",
       "Poland                       122\n",
       "Germany                      114\n",
       "Brazil                       111\n",
       "Australia                    102\n",
       "Ukraine                       79\n",
       "Russia                        79\n",
       "Name: country, dtype: int64"
      ]
     },
     "execution_count": 23,
     "metadata": {},
     "output_type": "execute_result"
    }
   ],
   "source": [
    "relevant_data['country'].value_counts().head(10)"
   ]
  },
  {
   "cell_type": "code",
   "execution_count": 24,
   "metadata": {
    "collapsed": false
   },
   "outputs": [
    {
     "data": {
      "image/png": "[encoded data removed]",
      "text/plain": [
       "<matplotlib.figure.Figure at 0x7fc34c535dd8>"
      ]
     },
     "metadata": {},
     "output_type": "display_data"
    }
   ],
   "source": [
    "relevant_data['country'].value_counts().sort_values().tail(10).plot.barh()\n",
    "plt.show()"
   ]
  },
  {
   "cell_type": "markdown",
   "metadata": {},
   "source": [
    "# Top 4 Countries"
   ]
  },
  {
   "cell_type": "code",
   "execution_count": 27,
   "metadata": {
    "collapsed": false
   },
   "outputs": [
    {
     "data": {
      "text/plain": [
       "United States of America    2933\n",
       "India                        463\n",
       "United Kingdom               279\n",
       "Canada                       240\n",
       "Name: country, dtype: int64"
      ]
     },
     "execution_count": 27,
     "metadata": {},
     "output_type": "execute_result"
    }
   ],
   "source": [
    "countries = ['United States of America', 'India', 'United Kingdom', 'Canada']\n",
    "relevant_data = relevant_data[relevant_data['country'].isin(countries)]\n",
    "relevant_data['country'].value_counts()"
   ]
  },
  {
   "cell_type": "markdown",
   "metadata": {},
   "source": [
    "# Cleaning \"months programming\""
   ]
  },
  {
   "cell_type": "code",
   "execution_count": 28,
   "metadata": {
    "collapsed": false
   },
   "outputs": [
    {
     "name": "stdout",
     "output_type": "stream",
     "text": [
      "0\n",
      "146\n"
     ]
    }
   ],
   "source": [
    "print(relevant_data['months_programming'].isnull().sum())\n",
    "print((relevant_data['months_programming'] == 0).sum())"
   ]
  },
  {
   "cell_type": "code",
   "execution_count": 29,
   "metadata": {
    "collapsed": true
   },
   "outputs": [],
   "source": [
    "relevant_data.loc[(relevant_data['months_programming'] == 0), 'months_programming'] = 1"
   ]
  },
  {
   "cell_type": "code",
   "execution_count": 30,
   "metadata": {
    "collapsed": false
   },
   "outputs": [
    {
     "name": "stdout",
     "output_type": "stream",
     "text": [
      "0\n",
      "0\n"
     ]
    }
   ],
   "source": [
    "print(relevant_data['months_programming'].isnull().sum())\n",
    "print((relevant_data['months_programming'] == 0).sum())"
   ]
  },
  {
   "cell_type": "markdown",
   "metadata": {},
   "source": [
    "# Calculating money per month"
   ]
  },
  {
   "cell_type": "code",
   "execution_count": 31,
   "metadata": {
    "collapsed": true
   },
   "outputs": [],
   "source": [
    "relevant_data['spent_per_month'] = relevant_data['money_for_learning'] / relevant_data['months_programming']"
   ]
  },
  {
   "cell_type": "code",
   "execution_count": 32,
   "metadata": {
    "collapsed": false
   },
   "outputs": [
    {
     "name": "stdout",
     "output_type": "stream",
     "text": [
      "0\n"
     ]
    },
    {
     "data": {
      "text/plain": [
       "1844"
      ]
     },
     "execution_count": 32,
     "metadata": {},
     "output_type": "execute_result"
    }
   ],
   "source": [
    "print(relevant_data['spent_per_month'].isnull().sum())\n",
    "(relevant_data['spent_per_month'] == 0).sum()"
   ]
  },
  {
   "cell_type": "code",
   "execution_count": 33,
   "metadata": {
    "collapsed": true
   },
   "outputs": [],
   "source": [
    "relevant_data_without_zeroes = relevant_data[relevant_data['spent_per_month'] != 0]\n",
    "relevant_data_with_zeroes = relevant_data[relevant_data['spent_per_month'].notnull()]"
   ]
  },
  {
   "cell_type": "code",
   "execution_count": 34,
   "metadata": {
    "collapsed": false
   },
   "outputs": [
    {
     "data": {
      "text/plain": [
       "United States of America    2933\n",
       "India                        463\n",
       "United Kingdom               279\n",
       "Canada                       240\n",
       "Name: country, dtype: int64"
      ]
     },
     "execution_count": 34,
     "metadata": {},
     "output_type": "execute_result"
    }
   ],
   "source": [
    "relevant_data_with_zeroes['country'].value_counts().head()"
   ]
  },
  {
   "cell_type": "code",
   "execution_count": 35,
   "metadata": {
    "collapsed": false
   },
   "outputs": [
    {
     "data": {
      "text/plain": [
       "United States of America    1619\n",
       "India                        201\n",
       "United Kingdom               137\n",
       "Canada                       114\n",
       "Name: country, dtype: int64"
      ]
     },
     "execution_count": 35,
     "metadata": {},
     "output_type": "execute_result"
    }
   ],
   "source": [
    "relevant_data_without_zeroes['country'].value_counts().head()"
   ]
  },
  {
   "cell_type": "markdown",
   "metadata": {},
   "source": [
    "# Analizing Results"
   ]
  },
  {
   "cell_type": "code",
   "execution_count": 36,
   "metadata": {
    "collapsed": false
   },
   "outputs": [
    {
     "data": {
      "text/html": [
       "<div>\n",
       "<style scoped>\n",
       "    .dataframe tbody tr th:only-of-type {\n",
       "        vertical-align: middle;\n",
       "    }\n",
       "\n",
       "    .dataframe tbody tr th {\n",
       "        vertical-align: top;\n",
       "    }\n",
       "\n",
       "    .dataframe thead th {\n",
       "        text-align: right;\n",
       "    }\n",
       "</style>\n",
       "<table border=\"1\" class=\"dataframe\">\n",
       "  <thead>\n",
       "    <tr style=\"text-align: right;\">\n",
       "      <th></th>\n",
       "      <th>count</th>\n",
       "      <th>mean</th>\n",
       "      <th>std</th>\n",
       "      <th>min</th>\n",
       "      <th>25%</th>\n",
       "      <th>50%</th>\n",
       "      <th>75%</th>\n",
       "      <th>max</th>\n",
       "    </tr>\n",
       "    <tr>\n",
       "      <th>country</th>\n",
       "      <th></th>\n",
       "      <th></th>\n",
       "      <th></th>\n",
       "      <th></th>\n",
       "      <th></th>\n",
       "      <th></th>\n",
       "      <th></th>\n",
       "      <th></th>\n",
       "    </tr>\n",
       "  </thead>\n",
       "  <tbody>\n",
       "    <tr>\n",
       "      <th>Canada</th>\n",
       "      <td>240.0</td>\n",
       "      <td>113.510961</td>\n",
       "      <td>441.014158</td>\n",
       "      <td>0.0</td>\n",
       "      <td>0.0</td>\n",
       "      <td>0.000000</td>\n",
       "      <td>25.000000</td>\n",
       "      <td>5000.0</td>\n",
       "    </tr>\n",
       "    <tr>\n",
       "      <th>India</th>\n",
       "      <td>463.0</td>\n",
       "      <td>135.100982</td>\n",
       "      <td>692.960378</td>\n",
       "      <td>0.0</td>\n",
       "      <td>0.0</td>\n",
       "      <td>0.000000</td>\n",
       "      <td>13.250000</td>\n",
       "      <td>10000.0</td>\n",
       "    </tr>\n",
       "    <tr>\n",
       "      <th>United Kingdom</th>\n",
       "      <td>279.0</td>\n",
       "      <td>45.534443</td>\n",
       "      <td>162.311836</td>\n",
       "      <td>0.0</td>\n",
       "      <td>0.0</td>\n",
       "      <td>0.000000</td>\n",
       "      <td>20.416667</td>\n",
       "      <td>1400.0</td>\n",
       "    </tr>\n",
       "    <tr>\n",
       "      <th>United States of America</th>\n",
       "      <td>2933.0</td>\n",
       "      <td>227.997996</td>\n",
       "      <td>1940.245614</td>\n",
       "      <td>0.0</td>\n",
       "      <td>0.0</td>\n",
       "      <td>3.333333</td>\n",
       "      <td>50.000000</td>\n",
       "      <td>80000.0</td>\n",
       "    </tr>\n",
       "  </tbody>\n",
       "</table>\n",
       "</div>"
      ],
      "text/plain": [
       "                           count        mean          std  min  25%       50%  \\\n",
       "country                                                                         \n",
       "Canada                     240.0  113.510961   441.014158  0.0  0.0  0.000000   \n",
       "India                      463.0  135.100982   692.960378  0.0  0.0  0.000000   \n",
       "United Kingdom             279.0   45.534443   162.311836  0.0  0.0  0.000000   \n",
       "United States of America  2933.0  227.997996  1940.245614  0.0  0.0  3.333333   \n",
       "\n",
       "                                75%      max  \n",
       "country                                       \n",
       "Canada                    25.000000   5000.0  \n",
       "India                     13.250000  10000.0  \n",
       "United Kingdom            20.416667   1400.0  \n",
       "United States of America  50.000000  80000.0  "
      ]
     },
     "execution_count": 36,
     "metadata": {},
     "output_type": "execute_result"
    }
   ],
   "source": [
    "relevant_data_with_zeroes.groupby('country')['spent_per_month'].describe()"
   ]
  },
  {
   "cell_type": "code",
   "execution_count": 37,
   "metadata": {
    "collapsed": false
   },
   "outputs": [
    {
     "data": {
      "text/html": [
       "<div>\n",
       "<style scoped>\n",
       "    .dataframe tbody tr th:only-of-type {\n",
       "        vertical-align: middle;\n",
       "    }\n",
       "\n",
       "    .dataframe tbody tr th {\n",
       "        vertical-align: top;\n",
       "    }\n",
       "\n",
       "    .dataframe thead th {\n",
       "        text-align: right;\n",
       "    }\n",
       "</style>\n",
       "<table border=\"1\" class=\"dataframe\">\n",
       "  <thead>\n",
       "    <tr style=\"text-align: right;\">\n",
       "      <th></th>\n",
       "      <th>count</th>\n",
       "      <th>mean</th>\n",
       "      <th>std</th>\n",
       "      <th>min</th>\n",
       "      <th>25%</th>\n",
       "      <th>50%</th>\n",
       "      <th>75%</th>\n",
       "      <th>max</th>\n",
       "    </tr>\n",
       "    <tr>\n",
       "      <th>country</th>\n",
       "      <th></th>\n",
       "      <th></th>\n",
       "      <th></th>\n",
       "      <th></th>\n",
       "      <th></th>\n",
       "      <th></th>\n",
       "      <th></th>\n",
       "      <th></th>\n",
       "    </tr>\n",
       "  </thead>\n",
       "  <tbody>\n",
       "    <tr>\n",
       "      <th>Canada</th>\n",
       "      <td>114.0</td>\n",
       "      <td>238.970444</td>\n",
       "      <td>617.345854</td>\n",
       "      <td>0.416667</td>\n",
       "      <td>8.333333</td>\n",
       "      <td>25.000000</td>\n",
       "      <td>131.250000</td>\n",
       "      <td>5000.0</td>\n",
       "    </tr>\n",
       "    <tr>\n",
       "      <th>India</th>\n",
       "      <td>201.0</td>\n",
       "      <td>311.202759</td>\n",
       "      <td>1026.728280</td>\n",
       "      <td>0.138889</td>\n",
       "      <td>5.500000</td>\n",
       "      <td>20.000000</td>\n",
       "      <td>133.333333</td>\n",
       "      <td>10000.0</td>\n",
       "    </tr>\n",
       "    <tr>\n",
       "      <th>United Kingdom</th>\n",
       "      <td>137.0</td>\n",
       "      <td>92.730727</td>\n",
       "      <td>222.359671</td>\n",
       "      <td>0.050000</td>\n",
       "      <td>8.333333</td>\n",
       "      <td>20.833333</td>\n",
       "      <td>66.666667</td>\n",
       "      <td>1400.0</td>\n",
       "    </tr>\n",
       "    <tr>\n",
       "      <th>United States of America</th>\n",
       "      <td>1619.0</td>\n",
       "      <td>413.043929</td>\n",
       "      <td>2597.175174</td>\n",
       "      <td>0.033333</td>\n",
       "      <td>10.000000</td>\n",
       "      <td>33.333333</td>\n",
       "      <td>166.666667</td>\n",
       "      <td>80000.0</td>\n",
       "    </tr>\n",
       "  </tbody>\n",
       "</table>\n",
       "</div>"
      ],
      "text/plain": [
       "                           count        mean          std       min  \\\n",
       "country                                                               \n",
       "Canada                     114.0  238.970444   617.345854  0.416667   \n",
       "India                      201.0  311.202759  1026.728280  0.138889   \n",
       "United Kingdom             137.0   92.730727   222.359671  0.050000   \n",
       "United States of America  1619.0  413.043929  2597.175174  0.033333   \n",
       "\n",
       "                                25%        50%         75%      max  \n",
       "country                                                              \n",
       "Canada                     8.333333  25.000000  131.250000   5000.0  \n",
       "India                      5.500000  20.000000  133.333333  10000.0  \n",
       "United Kingdom             8.333333  20.833333   66.666667   1400.0  \n",
       "United States of America  10.000000  33.333333  166.666667  80000.0  "
      ]
     },
     "execution_count": 37,
     "metadata": {},
     "output_type": "execute_result"
    }
   ],
   "source": [
    "relevant_data_without_zeroes.groupby('country')['spent_per_month'].describe()"
   ]
  },
  {
   "cell_type": "code",
   "execution_count": 38,
   "metadata": {
    "collapsed": false
   },
   "outputs": [
    {
     "data": {
      "text/html": [
       "<div>\n",
       "<style scoped>\n",
       "    .dataframe tbody tr th:only-of-type {\n",
       "        vertical-align: middle;\n",
       "    }\n",
       "\n",
       "    .dataframe tbody tr th {\n",
       "        vertical-align: top;\n",
       "    }\n",
       "\n",
       "    .dataframe thead th {\n",
       "        text-align: right;\n",
       "    }\n",
       "</style>\n",
       "<table border=\"1\" class=\"dataframe\">\n",
       "  <thead>\n",
       "    <tr style=\"text-align: right;\">\n",
       "      <th></th>\n",
       "      <th>Means_with_zeroes</th>\n",
       "      <th>Means_without_zeroes</th>\n",
       "    </tr>\n",
       "    <tr>\n",
       "      <th>country</th>\n",
       "      <th></th>\n",
       "      <th></th>\n",
       "    </tr>\n",
       "  </thead>\n",
       "  <tbody>\n",
       "    <tr>\n",
       "      <th>Canada</th>\n",
       "      <td>113.510961</td>\n",
       "      <td>238.970444</td>\n",
       "    </tr>\n",
       "    <tr>\n",
       "      <th>India</th>\n",
       "      <td>135.100982</td>\n",
       "      <td>311.202759</td>\n",
       "    </tr>\n",
       "    <tr>\n",
       "      <th>United Kingdom</th>\n",
       "      <td>45.534443</td>\n",
       "      <td>92.730727</td>\n",
       "    </tr>\n",
       "    <tr>\n",
       "      <th>United States of America</th>\n",
       "      <td>227.997996</td>\n",
       "      <td>413.043929</td>\n",
       "    </tr>\n",
       "  </tbody>\n",
       "</table>\n",
       "</div>"
      ],
      "text/plain": [
       "                          Means_with_zeroes  Means_without_zeroes\n",
       "country                                                          \n",
       "Canada                           113.510961            238.970444\n",
       "India                            135.100982            311.202759\n",
       "United Kingdom                    45.534443             92.730727\n",
       "United States of America         227.997996            413.043929"
      ]
     },
     "execution_count": 38,
     "metadata": {},
     "output_type": "execute_result"
    }
   ],
   "source": [
    "means_with_zeroes = relevant_data_with_zeroes.groupby('country')['spent_per_month'].mean()\n",
    "means_without_zeroes = relevant_data_without_zeroes.groupby('country')['spent_per_month'].mean()\n",
    "\n",
    "pd.DataFrame(data = {'Means_with_zeroes': means_with_zeroes,\n",
    "                     'Means_without_zeroes': means_without_zeroes})"
   ]
  },
  {
   "cell_type": "code",
   "execution_count": 39,
   "metadata": {
    "collapsed": false
   },
   "outputs": [
    {
     "data": {
      "text/html": [
       "<div>\n",
       "<style scoped>\n",
       "    .dataframe tbody tr th:only-of-type {\n",
       "        vertical-align: middle;\n",
       "    }\n",
       "\n",
       "    .dataframe tbody tr th {\n",
       "        vertical-align: top;\n",
       "    }\n",
       "\n",
       "    .dataframe thead th {\n",
       "        text-align: right;\n",
       "    }\n",
       "</style>\n",
       "<table border=\"1\" class=\"dataframe\">\n",
       "  <thead>\n",
       "    <tr style=\"text-align: right;\">\n",
       "      <th></th>\n",
       "      <th>Medians_with_zeroes</th>\n",
       "      <th>Medians_without_zeroes</th>\n",
       "    </tr>\n",
       "    <tr>\n",
       "      <th>country</th>\n",
       "      <th></th>\n",
       "      <th></th>\n",
       "    </tr>\n",
       "  </thead>\n",
       "  <tbody>\n",
       "    <tr>\n",
       "      <th>Canada</th>\n",
       "      <td>0.000000</td>\n",
       "      <td>25.000000</td>\n",
       "    </tr>\n",
       "    <tr>\n",
       "      <th>India</th>\n",
       "      <td>0.000000</td>\n",
       "      <td>20.000000</td>\n",
       "    </tr>\n",
       "    <tr>\n",
       "      <th>United Kingdom</th>\n",
       "      <td>0.000000</td>\n",
       "      <td>20.833333</td>\n",
       "    </tr>\n",
       "    <tr>\n",
       "      <th>United States of America</th>\n",
       "      <td>3.333333</td>\n",
       "      <td>33.333333</td>\n",
       "    </tr>\n",
       "  </tbody>\n",
       "</table>\n",
       "</div>"
      ],
      "text/plain": [
       "                          Medians_with_zeroes  Medians_without_zeroes\n",
       "country                                                              \n",
       "Canada                               0.000000               25.000000\n",
       "India                                0.000000               20.000000\n",
       "United Kingdom                       0.000000               20.833333\n",
       "United States of America             3.333333               33.333333"
      ]
     },
     "execution_count": 39,
     "metadata": {},
     "output_type": "execute_result"
    }
   ],
   "source": [
    "medians_with_zeroes = relevant_data_with_zeroes.groupby('country')['spent_per_month'].median()\n",
    "medians_without_zeroes = relevant_data_without_zeroes.groupby('country')['spent_per_month'].median()\n",
    "\n",
    "pd.DataFrame(data = {'Medians_with_zeroes': medians_with_zeroes,\n",
    "                     'Medians_without_zeroes': medians_without_zeroes})"
   ]
  },
  {
   "cell_type": "markdown",
   "metadata": {},
   "source": [
    "# Managing outliers"
   ]
  },
  {
   "cell_type": "code",
   "execution_count": 40,
   "metadata": {
    "collapsed": false
   },
   "outputs": [
    {
     "name": "stderr",
     "output_type": "stream",
     "text": [
      "/dataquest/system/env/python3/lib/python3.4/site-packages/seaborn/categorical.py:454: FutureWarning:\n",
      "\n",
      "remove_na is deprecated and is a private function. Do not use.\n",
      "\n"
     ]
    },
    {
     "data": {
      "image/png": "[encoded data removed]",
      "text/plain": [
       "<matplotlib.figure.Figure at 0x7fc34c4cac88>"
      ]
     },
     "metadata": {},
     "output_type": "display_data"
    }
   ],
   "source": [
    "sns.boxplot(x = 'country',\n",
    "            y = 'spent_per_month', \n",
    "            data = relevant_data_without_zeroes)\n",
    "plt.title('Money Spent Per Month',fontsize = 16)\n",
    "plt.ylabel('Money per month, USD')\n",
    "plt.xlabel('Country')\n",
    "plt.xticks(range(4), ['US', 'UK', 'Canada', 'India'])\n",
    "plt.show()"
   ]
  },
  {
   "cell_type": "code",
   "execution_count": 41,
   "metadata": {
    "collapsed": false
   },
   "outputs": [
    {
     "name": "stderr",
     "output_type": "stream",
     "text": [
      "/dataquest/system/env/python3/lib/python3.4/site-packages/seaborn/categorical.py:454: FutureWarning:\n",
      "\n",
      "remove_na is deprecated and is a private function. Do not use.\n",
      "\n"
     ]
    },
    {
     "data": {
      "image/png": "[encoded data removed]",
      "text/plain": [
       "<matplotlib.figure.Figure at 0x7fc34c4096d8>"
      ]
     },
     "metadata": {},
     "output_type": "display_data"
    }
   ],
   "source": [
    "sns.boxplot(x = 'country',\n",
    "            y = 'spent_per_month', \n",
    "            data = relevant_data_without_zeroes[relevant_data_without_zeroes['spent_per_month']<20000])\n",
    "plt.title('Money Spent Per Month',fontsize = 16)\n",
    "plt.ylabel('Money per month, USD')\n",
    "plt.xlabel('Country')\n",
    "plt.xticks(range(4), ['US', 'UK', 'Canada', 'India'])\n",
    "plt.show()"
   ]
  },
  {
   "cell_type": "code",
   "execution_count": 42,
   "metadata": {
    "collapsed": true
   },
   "outputs": [],
   "source": [
    "condition = (relevant_data_without_zeroes['spent_per_month'] > 20) & (relevant_data_without_zeroes['spent_per_month'] < 200)"
   ]
  },
  {
   "cell_type": "code",
   "execution_count": 43,
   "metadata": {
    "collapsed": false
   },
   "outputs": [
    {
     "name": "stdout",
     "output_type": "stream",
     "text": [
      "2071\n"
     ]
    },
    {
     "data": {
      "text/plain": [
       "774"
      ]
     },
     "execution_count": 43,
     "metadata": {},
     "output_type": "execute_result"
    }
   ],
   "source": [
    "print(relevant_data_without_zeroes.shape[0])\n",
    "relevant_data_without_zeroes[condition].shape[0]"
   ]
  },
  {
   "cell_type": "markdown",
   "metadata": {},
   "source": [
    "# Visualizing money spent per month"
   ]
  },
  {
   "cell_type": "code",
   "execution_count": 44,
   "metadata": {
    "collapsed": false
   },
   "outputs": [
    {
     "data": {
      "image/png": "[encoded data removed]",
      "text/plain": [
       "<matplotlib.figure.Figure at 0x7fc34c3fc9e8>"
      ]
     },
     "metadata": {},
     "output_type": "display_data"
    }
   ],
   "source": [
    "relevant_data_without_zeroes[condition]['spent_per_month'].hist()\n",
    "plt.show()"
   ]
  },
  {
   "cell_type": "code",
   "execution_count": 45,
   "metadata": {
    "collapsed": false
   },
   "outputs": [
    {
     "name": "stderr",
     "output_type": "stream",
     "text": [
      "/dataquest/system/env/python3/lib/python3.4/site-packages/seaborn/categorical.py:454: FutureWarning:\n",
      "\n",
      "remove_na is deprecated and is a private function. Do not use.\n",
      "\n"
     ]
    },
    {
     "data": {
      "image/png": "[encoded data removed]",
      "text/plain": [
       "<matplotlib.figure.Figure at 0x7fc34c292860>"
      ]
     },
     "metadata": {},
     "output_type": "display_data"
    }
   ],
   "source": [
    "sns.boxplot(x = 'country',\n",
    "            y = 'spent_per_month', \n",
    "            data = relevant_data_without_zeroes[condition])\n",
    "plt.title('Money Spent Per Month',fontsize = 16)\n",
    "plt.ylabel('Money per month, USD')\n",
    "plt.xlabel('Country')\n",
    "plt.xticks(range(4), ['US', 'UK', 'Canada', 'India'])\n",
    "plt.show()"
   ]
  },
  {
   "cell_type": "markdown",
   "metadata": {},
   "source": [
    "# Making the result table"
   ]
  },
  {
   "cell_type": "code",
   "execution_count": 46,
   "metadata": {
    "collapsed": false
   },
   "outputs": [
    {
     "data": {
      "text/html": [
       "<div>\n",
       "<style scoped>\n",
       "    .dataframe tbody tr th:only-of-type {\n",
       "        vertical-align: middle;\n",
       "    }\n",
       "\n",
       "    .dataframe tbody tr th {\n",
       "        vertical-align: top;\n",
       "    }\n",
       "\n",
       "    .dataframe thead th {\n",
       "        text-align: right;\n",
       "    }\n",
       "</style>\n",
       "<table border=\"1\" class=\"dataframe\">\n",
       "  <thead>\n",
       "    <tr style=\"text-align: right;\">\n",
       "      <th></th>\n",
       "      <th>Mean</th>\n",
       "      <th>Median</th>\n",
       "      <th>Num_respondents</th>\n",
       "    </tr>\n",
       "  </thead>\n",
       "  <tbody>\n",
       "    <tr>\n",
       "      <th>Canada</th>\n",
       "      <td>58.502976</td>\n",
       "      <td>45.833333</td>\n",
       "      <td>40</td>\n",
       "    </tr>\n",
       "    <tr>\n",
       "      <th>India</th>\n",
       "      <td>88.939039</td>\n",
       "      <td>79.916667</td>\n",
       "      <td>62</td>\n",
       "    </tr>\n",
       "    <tr>\n",
       "      <th>United Kingdom</th>\n",
       "      <td>69.128001</td>\n",
       "      <td>60.000000</td>\n",
       "      <td>55</td>\n",
       "    </tr>\n",
       "    <tr>\n",
       "      <th>United States of America</th>\n",
       "      <td>68.857456</td>\n",
       "      <td>51.111111</td>\n",
       "      <td>617</td>\n",
       "    </tr>\n",
       "  </tbody>\n",
       "</table>\n",
       "</div>"
      ],
      "text/plain": [
       "                               Mean     Median  Num_respondents\n",
       "Canada                    58.502976  45.833333               40\n",
       "India                     88.939039  79.916667               62\n",
       "United Kingdom            69.128001  60.000000               55\n",
       "United States of America  68.857456  51.111111              617"
      ]
     },
     "execution_count": 46,
     "metadata": {},
     "output_type": "execute_result"
    }
   ],
   "source": [
    "medians = relevant_data_without_zeroes[condition].groupby('country')['spent_per_month'].median()\n",
    "means = relevant_data_without_zeroes[condition].groupby('country')['spent_per_month'].mean()\n",
    "num_respondents = relevant_data_without_zeroes[condition]['country'].value_counts()\n",
    "results_df = pd.DataFrame(data = {'Median': medians,\n",
    "                                  'Mean': means,\n",
    "                                  'Num_respondents': num_respondents})\n",
    "results_df"
   ]
  },
  {
   "cell_type": "markdown",
   "metadata": {},
   "source": [
    "rounding the value means"
   ]
  },
  {
   "cell_type": "code",
   "execution_count": 49,
   "metadata": {
    "collapsed": false
   },
   "outputs": [
    {
     "ename": "ValueError",
     "evalue": "labels ['Median'] not contained in axis",
     "output_type": "error",
     "traceback": [
      "\u001b[1;31m\u001b[0m",
      "\u001b[1;31mValueError\u001b[0mTraceback (most recent call last)",
      "\u001b[1;32m<ipython-input-49-c651712ce64e>\u001b[0m in \u001b[0;36m<module>\u001b[1;34m()\u001b[0m\n\u001b[1;32m----> 1\u001b[1;33m \u001b[0mresults_df\u001b[0m\u001b[1;33m.\u001b[0m\u001b[0mdrop\u001b[0m\u001b[1;33m(\u001b[0m\u001b[0mcolumns\u001b[0m \u001b[1;33m=\u001b[0m \u001b[1;34m'Median'\u001b[0m\u001b[1;33m,\u001b[0m \u001b[0minplace\u001b[0m \u001b[1;33m=\u001b[0m \u001b[1;32mTrue\u001b[0m\u001b[1;33m)\u001b[0m\u001b[1;33m\u001b[0m\u001b[0m\n\u001b[0m\u001b[0;32m      2\u001b[0m \u001b[0mresults_df\u001b[0m\u001b[1;33m[\u001b[0m\u001b[1;34m'Mean'\u001b[0m\u001b[1;33m]\u001b[0m \u001b[1;33m=\u001b[0m \u001b[0mround\u001b[0m\u001b[1;33m(\u001b[0m\u001b[1;33m(\u001b[0m\u001b[0mresults_df\u001b[0m\u001b[1;33m[\u001b[0m\u001b[1;34m'Mean'\u001b[0m\u001b[1;33m]\u001b[0m\u001b[1;33m)\u001b[0m\u001b[1;33m,\u001b[0m\u001b[1;36m0\u001b[0m\u001b[1;33m)\u001b[0m\u001b[1;33m.\u001b[0m\u001b[0mastype\u001b[0m\u001b[1;33m(\u001b[0m\u001b[1;34m'int'\u001b[0m\u001b[1;33m)\u001b[0m\u001b[1;33m\u001b[0m\u001b[0m\n",
      "\u001b[1;32m/dataquest/system/env/python3/lib/python3.4/site-packages/pandas/core/generic.py\u001b[0m in \u001b[0;36mdrop\u001b[1;34m(self, labels, axis, index, columns, level, inplace, errors)\u001b[0m\n\u001b[0;32m   2528\u001b[0m         \u001b[1;32mfor\u001b[0m \u001b[0maxis\u001b[0m\u001b[1;33m,\u001b[0m \u001b[0mlabels\u001b[0m \u001b[1;32min\u001b[0m \u001b[0maxes\u001b[0m\u001b[1;33m.\u001b[0m\u001b[0mitems\u001b[0m\u001b[1;33m(\u001b[0m\u001b[1;33m)\u001b[0m\u001b[1;33m:\u001b[0m\u001b[1;33m\u001b[0m\u001b[0m\n\u001b[0;32m   2529\u001b[0m             \u001b[1;32mif\u001b[0m \u001b[0mlabels\u001b[0m \u001b[1;32mis\u001b[0m \u001b[1;32mnot\u001b[0m \u001b[1;32mNone\u001b[0m\u001b[1;33m:\u001b[0m\u001b[1;33m\u001b[0m\u001b[0m\n\u001b[1;32m-> 2530\u001b[1;33m                 \u001b[0mobj\u001b[0m \u001b[1;33m=\u001b[0m \u001b[0mobj\u001b[0m\u001b[1;33m.\u001b[0m\u001b[0m_drop_axis\u001b[0m\u001b[1;33m(\u001b[0m\u001b[0mlabels\u001b[0m\u001b[1;33m,\u001b[0m \u001b[0maxis\u001b[0m\u001b[1;33m,\u001b[0m \u001b[0mlevel\u001b[0m\u001b[1;33m=\u001b[0m\u001b[0mlevel\u001b[0m\u001b[1;33m,\u001b[0m \u001b[0merrors\u001b[0m\u001b[1;33m=\u001b[0m\u001b[0merrors\u001b[0m\u001b[1;33m)\u001b[0m\u001b[1;33m\u001b[0m\u001b[0m\n\u001b[0m\u001b[0;32m   2531\u001b[0m \u001b[1;33m\u001b[0m\u001b[0m\n\u001b[0;32m   2532\u001b[0m         \u001b[1;32mif\u001b[0m \u001b[0minplace\u001b[0m\u001b[1;33m:\u001b[0m\u001b[1;33m\u001b[0m\u001b[0m\n",
      "\u001b[1;32m/dataquest/system/env/python3/lib/python3.4/site-packages/pandas/core/generic.py\u001b[0m in \u001b[0;36m_drop_axis\u001b[1;34m(self, labels, axis, level, errors)\u001b[0m\n\u001b[0;32m   2560\u001b[0m                 \u001b[0mnew_axis\u001b[0m \u001b[1;33m=\u001b[0m \u001b[0maxis\u001b[0m\u001b[1;33m.\u001b[0m\u001b[0mdrop\u001b[0m\u001b[1;33m(\u001b[0m\u001b[0mlabels\u001b[0m\u001b[1;33m,\u001b[0m \u001b[0mlevel\u001b[0m\u001b[1;33m=\u001b[0m\u001b[0mlevel\u001b[0m\u001b[1;33m,\u001b[0m \u001b[0merrors\u001b[0m\u001b[1;33m=\u001b[0m\u001b[0merrors\u001b[0m\u001b[1;33m)\u001b[0m\u001b[1;33m\u001b[0m\u001b[0m\n\u001b[0;32m   2561\u001b[0m             \u001b[1;32melse\u001b[0m\u001b[1;33m:\u001b[0m\u001b[1;33m\u001b[0m\u001b[0m\n\u001b[1;32m-> 2562\u001b[1;33m                 \u001b[0mnew_axis\u001b[0m \u001b[1;33m=\u001b[0m \u001b[0maxis\u001b[0m\u001b[1;33m.\u001b[0m\u001b[0mdrop\u001b[0m\u001b[1;33m(\u001b[0m\u001b[0mlabels\u001b[0m\u001b[1;33m,\u001b[0m \u001b[0merrors\u001b[0m\u001b[1;33m=\u001b[0m\u001b[0merrors\u001b[0m\u001b[1;33m)\u001b[0m\u001b[1;33m\u001b[0m\u001b[0m\n\u001b[0m\u001b[0;32m   2563\u001b[0m             \u001b[0mdropped\u001b[0m \u001b[1;33m=\u001b[0m \u001b[0mself\u001b[0m\u001b[1;33m.\u001b[0m\u001b[0mreindex\u001b[0m\u001b[1;33m(\u001b[0m\u001b[1;33m**\u001b[0m\u001b[1;33m{\u001b[0m\u001b[0maxis_name\u001b[0m\u001b[1;33m:\u001b[0m \u001b[0mnew_axis\u001b[0m\u001b[1;33m}\u001b[0m\u001b[1;33m)\u001b[0m\u001b[1;33m\u001b[0m\u001b[0m\n\u001b[0;32m   2564\u001b[0m             \u001b[1;32mtry\u001b[0m\u001b[1;33m:\u001b[0m\u001b[1;33m\u001b[0m\u001b[0m\n",
      "\u001b[1;32m/dataquest/system/env/python3/lib/python3.4/site-packages/pandas/core/indexes/base.py\u001b[0m in \u001b[0;36mdrop\u001b[1;34m(self, labels, errors)\u001b[0m\n\u001b[0;32m   3742\u001b[0m             \u001b[1;32mif\u001b[0m \u001b[0merrors\u001b[0m \u001b[1;33m!=\u001b[0m \u001b[1;34m'ignore'\u001b[0m\u001b[1;33m:\u001b[0m\u001b[1;33m\u001b[0m\u001b[0m\n\u001b[0;32m   3743\u001b[0m                 raise ValueError('labels %s not contained in axis' %\n\u001b[1;32m-> 3744\u001b[1;33m                                  labels[mask])\n\u001b[0m\u001b[0;32m   3745\u001b[0m             \u001b[0mindexer\u001b[0m \u001b[1;33m=\u001b[0m \u001b[0mindexer\u001b[0m\u001b[1;33m[\u001b[0m\u001b[1;33m~\u001b[0m\u001b[0mmask\u001b[0m\u001b[1;33m]\u001b[0m\u001b[1;33m\u001b[0m\u001b[0m\n\u001b[0;32m   3746\u001b[0m         \u001b[1;32mreturn\u001b[0m \u001b[0mself\u001b[0m\u001b[1;33m.\u001b[0m\u001b[0mdelete\u001b[0m\u001b[1;33m(\u001b[0m\u001b[0mindexer\u001b[0m\u001b[1;33m)\u001b[0m\u001b[1;33m\u001b[0m\u001b[0m\n",
      "\u001b[1;31mValueError\u001b[0m: labels ['Median'] not contained in axis"
     ]
    }
   ],
   "source": [
    "results_df.drop(columns = 'Median', inplace = True)\n",
    "results_df['Mean'] = round((results_df['Mean']),0).astype('int')"
   ]
  },
  {
   "cell_type": "code",
   "execution_count": 50,
   "metadata": {
    "collapsed": false
   },
   "outputs": [
    {
     "data": {
      "text/html": [
       "<div>\n",
       "<style scoped>\n",
       "    .dataframe tbody tr th:only-of-type {\n",
       "        vertical-align: middle;\n",
       "    }\n",
       "\n",
       "    .dataframe tbody tr th {\n",
       "        vertical-align: top;\n",
       "    }\n",
       "\n",
       "    .dataframe thead th {\n",
       "        text-align: right;\n",
       "    }\n",
       "</style>\n",
       "<table border=\"1\" class=\"dataframe\">\n",
       "  <thead>\n",
       "    <tr style=\"text-align: right;\">\n",
       "      <th></th>\n",
       "      <th>index</th>\n",
       "      <th>Mean</th>\n",
       "      <th>Num_respondents</th>\n",
       "    </tr>\n",
       "  </thead>\n",
       "  <tbody>\n",
       "    <tr>\n",
       "      <th>0</th>\n",
       "      <td>Canada</td>\n",
       "      <td>59</td>\n",
       "      <td>40</td>\n",
       "    </tr>\n",
       "    <tr>\n",
       "      <th>1</th>\n",
       "      <td>India</td>\n",
       "      <td>89</td>\n",
       "      <td>62</td>\n",
       "    </tr>\n",
       "    <tr>\n",
       "      <th>2</th>\n",
       "      <td>United Kingdom</td>\n",
       "      <td>69</td>\n",
       "      <td>55</td>\n",
       "    </tr>\n",
       "    <tr>\n",
       "      <th>3</th>\n",
       "      <td>United States of America</td>\n",
       "      <td>69</td>\n",
       "      <td>617</td>\n",
       "    </tr>\n",
       "  </tbody>\n",
       "</table>\n",
       "</div>"
      ],
      "text/plain": [
       "                      index  Mean  Num_respondents\n",
       "0                    Canada    59               40\n",
       "1                     India    89               62\n",
       "2            United Kingdom    69               55\n",
       "3  United States of America    69              617"
      ]
     },
     "execution_count": 50,
     "metadata": {},
     "output_type": "execute_result"
    }
   ],
   "source": [
    "results_df.reset_index(inplace=True)\n",
    "results_df"
   ]
  },
  {
   "cell_type": "code",
   "execution_count": null,
   "metadata": {
    "collapsed": true
   },
   "outputs": [],
   "source": []
  }
 ],
 "metadata": {
  "kernelspec": {
   "display_name": "Python 3",
   "language": "python",
   "name": "python3"
  },
  "language_info": {
   "codemirror_mode": {
    "name": "ipython",
    "version": 3
   },
   "file_extension": ".py",
   "mimetype": "text/x-python",
   "name": "python",
   "nbconvert_exporter": "python",
   "pygments_lexer": "ipython3",
   "version": "3.4.3"
  }
 },
 "nbformat": 4,
 "nbformat_minor": 2
}
